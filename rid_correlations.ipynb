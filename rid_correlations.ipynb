{
 "cells": [
  {
   "cell_type": "code",
   "execution_count": null,
   "metadata": {},
   "outputs": [
    {
     "name": "stderr",
     "output_type": "stream",
     "text": [
      "/home/users/zwh4/LicketyRESPLIT/licketyresplit_rashomon_importance_distribution.py:107: UserWarning: Non-binarized data detected, binarizing internally using guesses.\n",
      "  warnings.warn(\"Non-binarized data detected, binarizing internally using guesses.\")\n"
     ]
    },
    {
     "name": "stdout",
     "output_type": "stream",
     "text": [
      "Best objective on root: 1995.000000 or 0.377984 and 0.11 seconds using lickety\n",
      "Best objective on root: 1927.000000 or 0.365100 and 0.11 seconds using lickety\n",
      "[LicketyRESPLIT] Finished in 0.487 seconds with 7 trees (truncated to 7)\n",
      "Best objective on root: 1928.000000 or 0.365290 and 0.07 seconds using lickety\n",
      "[LicketyRESPLIT] Finished in 0.609 seconds with 55 trees (truncated to 55)\n",
      "Best objective on root: 1915.000000 or 0.362827 and 0.07 seconds using lickety\n",
      "[LicketyRESPLIT] Finished in 0.431 seconds with 84 trees (truncated to 84)\n",
      "[LicketyRESPLIT] Finished in 0.435 seconds with 30 trees (truncated to 30)\n",
      "Best objective on root: 1980.000000 or 0.375142 and 0.12 seconds using lickety\n",
      "Best objective on root: 1901.000000 or 0.360174 and 0.08 seconds using lickety\n",
      "[LicketyRESPLIT] Finished in 0.419 seconds with 17 trees (truncated to 17)\n",
      "Best objective on root: 1945.000000 or 0.368511 and 0.07 seconds using lickety\n",
      "[LicketyRESPLIT] Finished in 0.479 seconds with 167 trees (truncated to 101)\n",
      "Best objective on root: 1956.000000 or 0.370595 and 0.10 seconds using lickety\n",
      "[LicketyRESPLIT] Finished in 0.321 seconds with 2 trees (truncated to 2)\n",
      "Best objective on root: 1933.000000 or 0.366237 and 0.07 seconds using lickety\n",
      "[LicketyRESPLIT] Finished in 0.400 seconds with 8 trees (truncated to 8)\n",
      "[LicketyRESPLIT] Finished in 0.418 seconds with 22 trees (truncated to 22)\n",
      "Best objective on root: 1907.000000 or 0.361311 and 0.07 seconds using lickety\n",
      "[LicketyRESPLIT] Finished in 0.410 seconds with 70 trees (truncated to 70)\n",
      "LicketyRID (lookahead=1) runtime: 22.175 sec\n"
     ]
    },
    {
     "name": "stderr",
     "output_type": "stream",
     "text": [
      "/home/users/zwh4/LicketyRESPLIT/licketyresplit_rashomon_importance_distribution.py:107: UserWarning: Non-binarized data detected, binarizing internally using guesses.\n",
      "  warnings.warn(\"Non-binarized data detected, binarizing internally using guesses.\")\n"
     ]
    },
    {
     "name": "stdout",
     "output_type": "stream",
     "text": [
      "Best objective on root: 1995.000000 or 0.377984 and 0.29 seconds using lickety\n",
      "Best objective on root: 1927.000000 or 0.365100 and 0.29 seconds using lickety\n",
      "[LicketyRESPLIT] Finished in 0.302 seconds with 7 trees (truncated to 7)\n",
      "[LicketyRESPLIT] Finished in 0.321 seconds with 55 trees (truncated to 55)\n",
      "Best objective on root: 1928.000000 or 0.365290 and 0.17 seconds using lickety\n",
      "Best objective on root: 1915.000000 or 0.362827 and 0.18 seconds using lickety\n",
      "[LicketyRESPLIT] Finished in 0.209 seconds with 30 trees (truncated to 30)\n",
      "[LicketyRESPLIT] Finished in 0.227 seconds with 84 trees (truncated to 84)\n",
      "Best objective on root: 1980.000000 or 0.375142 and 0.22 seconds using lickety\n",
      "Best objective on root: 1895.000000 or 0.359038 and 0.21 seconds using lickety\n",
      "[LicketyRESPLIT] Finished in 0.234 seconds with 17 trees (truncated to 17)\n",
      "[LicketyRESPLIT] Finished in 0.251 seconds with 101 trees (truncated to 101)\n",
      "Best objective on root: 1945.000000 or 0.368511 and 0.17 seconds using lickety\n",
      "[LicketyRESPLIT] Finished in 0.174 seconds with 2 trees (truncated to 2)\n",
      "Best objective on root: 1956.000000 or 0.370595 and 0.17 seconds using lickety\n",
      "[LicketyRESPLIT] Finished in 0.180 seconds with 10 trees (truncated to 10)\n",
      "Best objective on root: 1933.000000 or 0.366237 and 0.17 seconds using lickety\n",
      "[LicketyRESPLIT] Finished in 0.189 seconds with 22 trees (truncated to 22)\n",
      "Best objective on root: 1907.000000 or 0.361311 and 0.17 seconds using lickety\n",
      "[LicketyRESPLIT] Finished in 0.199 seconds with 70 trees (truncated to 70)\n",
      "TreeFarmsRID (optimal; lookahead=depth) runtime: 20.928 sec\n"
     ]
    },
    {
     "name": "stderr",
     "output_type": "stream",
     "text": [
      "/home/users/zwh4/LicketyRESPLIT/resplit_rashomon_importance_distribution.py:122: UserWarning: Non-binarized data detected, binarizing internally using guesses.\n",
      "  warnings.warn(\"Non-binarized data detected, binarizing internally using guesses.\")\n"
     ]
    },
    {
     "name": "stdout",
     "output_type": "stream",
     "text": [
      "Found set of near optimal prefixes. Filling in their leaves now.\n",
      "Found set of near optimal prefixes. Filling in their leaves now."
     ]
    },
    {
     "name": "stderr",
     "output_type": "stream",
     "text": [
      "  0%|          | 0/7 [00:00<?, ?it/s]"
     ]
    },
    {
     "name": "stdout",
     "output_type": "stream",
     "text": [
      "\n"
     ]
    },
    {
     "name": "stderr",
     "output_type": "stream",
     "text": [
      "100%|██████████| 3/3 [00:00<00:00,  3.94it/s]\n",
      " 43%|████▎     | 3/7 [00:00<00:01,  3.67it/s]"
     ]
    },
    {
     "name": "stdout",
     "output_type": "stream",
     "text": [
      "Found set of near optimal prefixes. Filling in their leaves now.\n"
     ]
    },
    {
     "name": "stderr",
     "output_type": "stream",
     "text": [
      "100%|██████████| 7/7 [00:01<00:00,  3.97it/s]]\n"
     ]
    },
    {
     "name": "stdout",
     "output_type": "stream",
     "text": [
      "Found set of near optimal prefixes. Filling in their leaves now.\n"
     ]
    },
    {
     "name": "stderr",
     "output_type": "stream",
     "text": [
      "100%|██████████| 17/17 [00:04<00:00,  4.11it/s]\n",
      " 76%|███████▌  | 19/25 [00:05<00:01,  3.88it/s]"
     ]
    },
    {
     "name": "stdout",
     "output_type": "stream",
     "text": [
      "Found set of near optimal prefixes. Filling in their leaves now.\n"
     ]
    },
    {
     "name": "stderr",
     "output_type": "stream",
     "text": [
      "100%|██████████| 25/25 [00:06<00:00,  3.69it/s]\n"
     ]
    },
    {
     "name": "stdout",
     "output_type": "stream",
     "text": [
      "Found set of near optimal prefixes. Filling in their leaves now.\n"
     ]
    },
    {
     "name": "stderr",
     "output_type": "stream",
     "text": [
      "100%|██████████| 202/202 [00:48<00:00,  4.14it/s]\n",
      " 78%|███████▊  | 193/248 [00:47<00:11,  4.64it/s]"
     ]
    },
    {
     "name": "stdout",
     "output_type": "stream",
     "text": [
      "Found set of near optimal prefixes. Filling in their leaves now.\n"
     ]
    },
    {
     "name": "stderr",
     "output_type": "stream",
     "text": [
      "100%|██████████| 248/248 [00:59<00:00,  4.13it/s]\n",
      " 58%|█████▊    | 49/84 [00:12<00:07,  4.47it/s]"
     ]
    },
    {
     "name": "stdout",
     "output_type": "stream",
     "text": [
      "Found set of near optimal prefixes. Filling in their leaves now.\n"
     ]
    },
    {
     "name": "stderr",
     "output_type": "stream",
     "text": [
      "100%|██████████| 84/84 [00:20<00:00,  4.01it/s]]\n",
      " 10%|█         | 29/286 [00:08<01:09,  3.72it/s]"
     ]
    },
    {
     "name": "stdout",
     "output_type": "stream",
     "text": [
      "Found set of near optimal prefixes. Filling in their leaves now.\n"
     ]
    },
    {
     "name": "stderr",
     "output_type": "stream",
     "text": [
      "0it [00:00, ?it/s]\n"
     ]
    },
    {
     "name": "stdout",
     "output_type": "stream",
     "text": [
      "Found set of near optimal prefixes. Filling in their leaves now.\n"
     ]
    },
    {
     "name": "stderr",
     "output_type": "stream",
     "text": [
      "0it [00:00, ?it/s]\n",
      "100%|██████████| 286/286 [01:01<00:00,  4.62it/s]\n",
      "RESPLIT predict:  69%|██████▉   | 41498/59819 [05:46<02:26, 125.33it/s]"
     ]
    }
   ],
   "source": [
    "from ucimlrepo import fetch_ucirepo\n",
    "import numpy as np\n",
    "from sklearn.datasets import fetch_openml\n",
    "import pandas as pd\n",
    "from sklearn.datasets import fetch_covtype\n",
    "from sklearn.datasets import fetch_covtype\n",
    "from sklearn.model_selection import train_test_split\n",
    "import time\n",
    "\n",
    "from licketyresplit_rashomon_importance_distribution import RashomonImportanceDistribution as LicketyRID\n",
    "TreeFarmsRID = LicketyRID  # given that TreeFARMS has a bug, we are going to view Lickety with max lookahead as TreeFARMS because it is optimal.\n",
    "from resplit_rashomon_importance_distribution import RashomonImportanceDistribution as ResplitRID\n",
    "\n",
    "if True:\n",
    "    spambase = fetch_ucirepo(id=94)\n",
    "        X = spambase.data.features\n",
    "            y = spambase.data.targets\n",
    "                df = pd.concat([X, y], axis=1)  # y already binary\n",
    "\n",
    "                if False:\n",
    "                    bike = fetch_ucirepo(id=275)\n",
    "                        X = bike.data.features\n",
    "                            y = bike.data.targets\n",
    "                                X = pd.get_dummies(X, columns=['season', 'mnth', 'weekday', 'weathersit'], drop_first=False)\n",
    "                                    X['dteday'] = pd.to_datetime(X['dteday']).dt.year\n",
    "                                        label_col = \"cnt\"\n",
    "                                            label_quantile = 0.50\n",
    "                                                thr = y[label_col].quantile(label_quantile)\n",
    "                                                    y_bin = (y[label_col] >= thr).astype(int).rename(\"label\")\n",
    "                                                        df = pd.concat([X, y_bin], axis=1)\n",
    "\n",
    "                                                        if True:\n",
    "                                                            X_raw, y_raw = fetch_openml(data_id=42193, as_frame=True, return_X_y=True)\n",
    "                                                                df_all = X_raw.copy() # compas\n",
    "                                                                    df_all[\"label\"] = y_raw\n",
    "                                                                        df_all = df_all.dropna(axis=0, how=\"any\").reset_index(drop=True) # drop rows with any NA\n",
    "                                                                            X_clean = df_all.drop(columns=[\"label\"])\n",
    "                                                                                y_clean = df_all[\"label\"]\n",
    "                                                                                    X = pd.get_dummies(\n",
    "                                                                                            X_clean,\n",
    "                                                                                                    drop_first=False,\n",
    "                                                                                                            dtype=\"uint8\"\n",
    "                                                                                                                )\n",
    "                                                                                                                    y = pd.to_numeric(y_clean, errors=\"coerce\").astype(\"uint8\")\n",
    "                                                                                                                        df = pd.concat([X.reset_index(drop=True), y.rename(\"label\").reset_index(drop=True)], axis=1)\n",
    "\n",
    "                                                                                                                        if False:\n",
    "                                                                                                                            adult = fetch_openml(\"adult\", version=2, as_frame=True)\n",
    "                                                                                                                                X_raw = adult.data.copy()\n",
    "                                                                                                                                    y_raw = adult.target.copy()\n",
    "\n",
    "                                                                                                                                        X_raw = X_raw.replace('?', pd.NA)\n",
    "                                                                                                                                            X_raw = X_raw.dropna()\n",
    "                                                                                                                                                y_raw = y_raw.loc[X_raw.index]\n",
    "                                                                                                                                                    X = pd.get_dummies(X_raw, drop_first=False)\n",
    "                                                                                                                                                        y = (y_raw.astype(str).str.contains(\">50K\")).astype(int)\n",
    "                                                                                                                                                            df = pd.concat([X.reset_index(drop=True), y.rename(\"income_gt_50k\").reset_index(drop=True)], axis=1)\n",
    "\n",
    "                                                                                                                                                            if False:\n",
    "                                                                                                                                                                cov = fetch_covtype(as_frame=True)\n",
    "                                                                                                                                                                    X = cov.data\n",
    "                                                                                                                                                                        y = cov.target\n",
    "                                                                                                                                                                            y_bin = (y == 2).astype(np.uint8).rename(\"label\")\n",
    "                                                                                                                                                                                df = pd.concat([X.reset_index(drop=True), y_bin.reset_index(drop=True)], axis=1)\n",
    "\n",
    "\n",
    "                                                                                                                                                                                common_kwargs = dict(\n",
    "                                                                                                                                                                                    input_df=df,\n",
    "                                                                                                                                                                                        binning_map=None, \n",
    "                                                                                                                                                                                            db=5,\n",
    "                                                                                                                                                                                                lam=0.01,\n",
    "                                                                                                                                                                                                    eps=0.01,\n",
    "                                                                                                                                                                                                        vi_metric='sub_mr',\n",
    "                                                                                                                                                                                                            dataset_name='compas5',  # share bootstraps\n",
    "                                                                                                                                                                                                                n_resamples=10,\n",
    "                                                                                                                                                                                                                    verbose=False,\n",
    "                                                                                                                                                                                                                        max_par_for_gosdt=2,\n",
    "                                                                                                                                                                                                                            allow_binarize_internally=True\n",
    "                                                                                                                                                                                                                            )\n",
    "\n",
    "                                                                                                                                                                                                                            t0 = time.perf_counter()\n",
    "                                                                                                                                                                                                                            LRID = LicketyRID(**common_kwargs, lickety_lookahead=1)\n",
    "                                                                                                                                                                                                                            t1 = time.perf_counter()\n",
    "                                                                                                                                                                                                                            print(f\"LicketyRID (lookahead=1) runtime: {t1 - t0:.3f} sec\")\n",
    "\n",
    "                                                                                                                                                                                                                            # we alias to keep the \"TreeFarms\" name externally, but underneath it’s Lickety with lh=db\n",
    "                                                                                                                                                                                                                            t0 = time.perf_counter()\n",
    "                                                                                                                                                                                                                            TRID = TreeFarmsRID(**common_kwargs, lickety_lookahead=common_kwargs[\"db\"])\n",
    "                                                                                                                                                                                                                            t1 = time.perf_counter()\n",
    "                                                                                                                                                                                                                            print(f\"TreeFarmsRID (optimal; lookahead=depth) runtime: {t1 - t0:.3f} sec\")\n",
    "\n",
    "                                                                                                                                                                                                                            t0 = time.perf_counter()\n",
    "                                                                                                                                                                                                                            RRID = ResplitRID(**common_kwargs)  # RESPLIT uses TREEFARMS fill + lookahead=ceil(d/2) internally\n",
    "                                                                                                                                                                                                                            t1 = time.perf_counter()\n",
    "                                                                                                                                                                                                                            print(f\"ResplitRID runtime: {t1 - t0:.3f} sec\")\n",
    "\n",
    "                                                                                                                                                                                                                            for v in range(TRID.n_vars):\n",
    "                                                                                                                                                                                                                                col_name = df.columns[v]\n",
    "\n",
    "                                                                                                                                                                                                                                    # TreeFarms (lookahead = db, i.e., optimal)\n",
    "                                                                                                                                                                                                                                        t_low, t_high = TRID.bwr(v)\n",
    "                                                                                                                                                                                                                                            t_mean, t_median = TRID.mean(v), TRID.median(v)\n",
    "\n",
    "                                                                                                                                                                                                                                                # Lickety (lookahead = 1)\n",
    "                                                                                                                                                                                                                                                    l_low, l_high = LRID.bwr(v)\n",
    "                                                                                                                                                                                                                                                        l_mean, l_median = LRID.mean(v), LRID.median(v)\n",
    "\n",
    "                                                                                                                                                                                                                                                            # RESPLIT\n",
    "                                                                                                                                                                                                                                                                r_low, r_high = RRID.bwr(v)\n",
    "                                                                                                                                                                                                                                                                    r_mean, r_median = RRID.mean(v), RRID.median(v)\n",
    "\n",
    "                                                                                                                                                                                                                                                                        print(f\"Variable {v} ({col_name}) --------------\")\n",
    "                                                                                                                                                                                                                                                                            print(f\"TreeFarms (opt): range=({t_low:.4f}, {t_high:.4f}), mean={t_mean:.4f}, median={t_median:.4f}\")\n",
    "                                                                                                                                                                                                                                                                                print(f\"Lickety (lh=1) : range=({l_low:.4f}, {l_high:.4f}), mean={l_mean:.4f}, median={l_median:.4f}\")\n",
    "                                                                                                                                                                                                                                                                                    print(f\"RESPLIT (lh≈d/2): range=({r_low:.4f}, {r_high:.4f}), mean={r_mean:.4f}, median={r_median:.4f}\")\n",
    "                                                                                                                                                                                                                                                                                        print()\n",
    "\n",
    "                                                                                                                                                                                                                                                                                        from scipy.stats import pearsonr, spearmanr\n",
    "\n",
    "                                                                                                                                                                                                                                                                                        tree_means = np.array([TRID.mean(v) for v in range(TRID.n_vars)])\n",
    "                                                                                                                                                                                                                                                                                        lickety_means = np.array([LRID.mean(v) for v in range(LRID.n_vars)])\n",
    "\n",
    "                                                                                                                                                                                                                                                                                        corr, pval = pearsonr(tree_means, lickety_means)\n",
    "                                                                                                                                                                                                                                                                                        print(\"=== Linear Correlation: TreeFarms (opt) vs Lickety (lh=1) ===\")\n",
    "                                                                                                                                                                                                                                                                                        print(f\"Pearson r = {corr:.6f}, p-value = {pval:.4e}\")\n",
    "\n",
    "                                                                                                                                                                                                                                                                                        rank_corr, rank_pval = spearmanr(tree_means, lickety_means)\n",
    "                                                                                                                                                                                                                                                                                        print(f\"Spearman rho = {rank_corr:.6f}, p-value = {rank_pval:.4e}\")\n",
    "\n",
    "                                                                                                                                                                                                                                                                                        top20_idx = np.argsort(tree_means)[-20:]\n",
    "                                                                                                                                                                                                                                                                                        tree_top20 = tree_means[top20_idx]\n",
    "                                                                                                                                                                                                                                                                                        lickety_top20 = lickety_means[top20_idx]\n",
    "\n",
    "                                                                                                                                                                                                                                                                                        corr, pval = pearsonr(tree_top20, lickety_top20)\n",
    "                                                                                                                                                                                                                                                                                        print(\"=== Linear Correlation on Top 20 (TreeFarms opt vs Lickety) ===\")\n",
    "                                                                                                                                                                                                                                                                                        print(f\"Pearson r = {corr:.6f}, p-value = {pval:.6e}\")\n",
    "\n",
    "                                                                                                                                                                                                                                                                                        rank_corr, rank_pval = spearmanr(tree_top20, lickety_top20)\n",
    "                                                                                                                                                                                                                                                                                        print(f\"Spearman rho = {rank_corr:.6f}, p-value = {rank_pval:.6e}\")\n",
    "                                                                                                                                                                                                                                                                                        print()\n",
    "\n",
    "                                                                                                                                                                                                                                                                                        resplit_means = np.array([RRID.mean(v) for v in range(RRID.n_vars)])\n",
    "\n",
    "                                                                                                                                                                                                                                                                                        corr, pval = pearsonr(tree_means, resplit_means)\n",
    "                                                                                                                                                                                                                                                                                        print(\"=== Linear Correlation: TreeFarms (opt) vs RESPLIT ===\")\n",
    "                                                                                                                                                                                                                                                                                        print(f\"Pearson r = {corr:.6f}, p-value = {pval:.4e}\")\n",
    "\n",
    "                                                                                                                                                                                                                                                                                        rank_corr, rank_pval = spearmanr(tree_means, resplit_means)\n",
    "                                                                                                                                                                                                                                                                                        print(f\"Spearman rho = {rank_corr:.6f}, p-value = {rank_pval:.4e}\")\n",
    "\n",
    "                                                                                                                                                                                                                                                                                        resplit_top20 = resplit_means[top20_idx]\n",
    "\n",
    "                                                                                                                                                                                                                                                                                        corr, pval = pearsonr(tree_top20, resplit_top20)\n",
    "                                                                                                                                                                                                                                                                                        print(\"=== Linear Correlation on Top 20 (TreeFarms opt vs RESPLIT) ===\")\n",
    "                                                                                                                                                                                                                                                                                        print(f\"Pearson r = {corr:.6f}, p-value = {pval:.6e}\")\n",
    "\n",
    "                                                                                                                                                                                                                                                                                        rank_corr, rank_pval = spearmanr(tree_top20, resplit_top20)\n",
    "                                                                                                                                                                                                                                                                                        print(f\"Spearman rho = {rank_corr:.6f}, p-value = {rank_pval:.6e}\")"
   ]
  }
 ],
 "metadata": {
  "kernelspec": {
   "display_name": "rashomon",
   "language": "python",
   "name": "python3"
  },
  "language_info": {
   "codemirror_mode": {
    "name": "ipython",
    "version": 3
   },
   "file_extension": ".py",
   "mimetype": "text/x-python",
   "name": "python",
   "nbconvert_exporter": "python",
   "pygments_lexer": "ipython3",
   "version": "3.10.12"
  }
 },
 "nbformat": 4,
 "nbformat_minor": 2
}
